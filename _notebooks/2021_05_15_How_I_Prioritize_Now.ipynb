{
 "cells": [
  {
   "cell_type": "markdown",
   "id": "38d9152c-f401-4c19-a6c6-8fe77c2e4fe6",
   "metadata": {
    "execution": {
     "iopub.execute_input": "2021-05-15T14:24:38.725879Z",
     "iopub.status.busy": "2021-05-15T14:24:38.725879Z",
     "iopub.status.idle": "2021-05-15T14:24:38.736850Z",
     "shell.execute_reply": "2021-05-15T14:24:38.735852Z",
     "shell.execute_reply.started": "2021-05-15T14:24:38.725879Z"
    }
   },
   "source": [
    "# How I Prioritize and beat procrastination\n",
    "> a Quick discussion on what motivated me to write things down.\n",
    "\n",
    "- toc: true \n",
    "- badges: true\n",
    "- comments: true\n",
    "- categories: [jupyter]\n",
    "- image: images/chart-preview.png"
   ]
  },
  {
   "cell_type": "markdown",
   "id": "0baa844a-7e94-4d02-b789-29d9dfe1e50a",
   "metadata": {},
   "source": [
    "\n",
    "How I Beat procratination:\n",
    "> youtube: https://youtu.be/RP0oVOH4Zz4\n",
    "\n",
    "How I Manage My Time - 10 Time Management Tips\n",
    "> youtube: https://youtu.be/iONDebHX9qk\n",
    "\n",
    "### Prioritization\n",
    "- Highlight of the day\n",
    "  - Choose what you fear most!\n",
    "- Time blocking\n",
    "- Hell yeah or no\n",
    "\n",
    "### Other important creation tips\n",
    "\n",
    "Note taking\n",
    "- Morning dump\n",
    "- save your brain from stress\n",
    "- Roam Research\n",
    "- Read Wise"
   ]
  },
  {
   "cell_type": "code",
   "execution_count": null,
   "id": "14150e5a-06d2-4c96-aeff-84fca3c41b31",
   "metadata": {},
   "outputs": [],
   "source": []
  }
 ],
 "metadata": {
  "kernelspec": {
   "display_name": "Python 3",
   "language": "python",
   "name": "python3"
  },
  "language_info": {
   "codemirror_mode": {
    "name": "ipython",
    "version": 3
   },
   "file_extension": ".py",
   "mimetype": "text/x-python",
   "name": "python",
   "nbconvert_exporter": "python",
   "pygments_lexer": "ipython3",
   "version": "3.8.5"
  }
 },
 "nbformat": 4,
 "nbformat_minor": 5
}
