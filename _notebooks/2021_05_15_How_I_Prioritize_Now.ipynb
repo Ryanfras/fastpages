{
 "cells": [
  {
   "cell_type": "code",
   "execution_count": null,
   "id": "6fce4702-c430-4470-ac7e-92edffdc6db8",
   "metadata": {},
   "outputs": [],
   "source": [
    "# My Inspiration for starting my own blog\n",
    "> a Quick discussion on what motivated me to write things down.\n",
    "\n",
    "- toc: true \n",
    "- badges: true\n",
    "- comments: true\n",
    "- categories: [jupyter]\n",
    "- image: images/chart-preview.png\n",
    "- adfadfasd"
   ]
  },
  {
   "cell_type": "code",
   "execution_count": null,
   "id": "b67499e8-6c71-484e-bed6-5e8579212bb9",
   "metadata": {},
   "outputs": [],
   "source": [
    "\n",
    "How I Beat procratination:\n",
    "> youtube: https://youtu.be/RP0oVOH4Zz4\n",
    "\n",
    "How I Manage My Time - 10 Time Management Tips\n",
    "> youtube: https://youtu.be/iONDebHX9qk\n",
    "\n",
    "### Prioritization\n",
    "- Highlight of the day\n",
    "  - Choose what you fear most!\n",
    "- Time blocking\n",
    "- Hell yeah or no\n",
    "\n",
    "### Other important creation tips\n",
    "\n",
    "Note taking\n",
    "- Morning dump\n",
    "- save your brain from stress\n",
    "- Roam Research\n",
    "- Read Wise"
   ]
  }
 ],
 "metadata": {
  "kernelspec": {
   "display_name": "Python 3",
   "language": "python",
   "name": "python3"
  },
  "language_info": {
   "codemirror_mode": {
    "name": "ipython",
    "version": 3
   },
   "file_extension": ".py",
   "mimetype": "text/x-python",
   "name": "python",
   "nbconvert_exporter": "python",
   "pygments_lexer": "ipython3",
   "version": "3.8.5"
  }
 },
 "nbformat": 4,
 "nbformat_minor": 5
}
