{
 "cells": [
  {
   "cell_type": "markdown",
   "metadata": {
    "id": "wN6llpKCG_3S"
   },
   "source": [
    "# My Inspiration for starting my own blog\n",
    "> a Quick discussion on what motivated me to write things down.\n",
    "\n",
    "- toc: true \n",
    "- badges: true\n",
    "- comments: true\n",
    "- categories: [jupyter]\n",
    "- image: images/chart-preview.png\n",
    "- adfadfasd"
   ]
  },
  {
   "cell_type": "markdown",
   "metadata": {
    "id": "Q2LZwtuJG4OP"
   },
   "source": [
    "# About\n",
    "\n",
    "This post is about some amazing videos I've been watching on YouTube which helped me finally decide to start my blogging journey"
   ]
  },
  {
   "cell_type": "markdown",
   "metadata": {
    "id": "PkZbzBcauAXT"
   },
   "source": [
    "## Important Takeaways\n",
    "\n",
    "BOOK: Show your work\n",
    "\n",
    "## Consumption vs. Creation\n",
    "\n",
    "### What is the difference?\n",
    "\n",
    "Consumption and creation are 2 very broad terms, let's limit it to intellectual content. Specifically, I would like to define the following context:\n",
    "\n",
    "Actions that consume (content): | Actions that create (content):\n",
    "- reading (Blogs, Books, Articles)\n",
    "- listening (Podcasts, Songs)\n",
    "- watching (YouTube, Films)\n",
    "- using (Applications)\n",
    "\n",
    "\n",
    "- writing (Blogs, Books, Articles)\n",
    "- speaking (Podcasts, YouTube)\n",
    "- singing (Songs, YouTube)\n",
    "- acting (Films, YouTube)\n",
    "- building (Applications)\n",
    "\n",
    "### My relationship with consumption and creation\n",
    "\n",
    "I spend a lot of time (80%) consuming and a comparatively a small amount of time (20%) creating. For a while now I've been trying to think of ways in which I could change this. It wasn't until recently that I've finally made some progress by setting up this blog.\n",
    "\n",
    "My hope is that this post might help you make the same transition. I would like to start by convincing you why creation is so important. \n",
    "\n",
    "### Why you should create more\n",
    "\n",
    "#### Express / Know yourself\n",
    "\n",
    "When you are doing something like writing a blog you are actually also getting to know yourself, your inner thoughts and ideas are expressed on paper. It is a time in which you find out what you have to say to the world, sometimes even surprising yourself. Perhaps it can even be compared to meditation or praying.\n",
    "\n",
    "#### Add value to the world\n",
    "\n",
    "Why are we alive if not to add new things to the world. Imagine having to learn math without a book, writing allows us to speed up knowledge transfer to future generations. The best thing about the internet is that you are now able to share your ideas everywhere and with everyone!\n",
    "\n",
    "#### Meet new people online\n",
    "\n",
    "Sharing your interests online could lead to making unexpected friends in every part of the world. Personally, I believe the only way for long term sustained world peace is a deep integration and understanding of all cultures around the world.\n",
    "\n",
    "#### Monetize\n",
    "\n",
    "Another amazing motivator and reason for creating things is of course money. The ability to sell your content is definitely not easy but it's better having tried and failed than never having tried at all.\n",
    "\n",
    "The internet, and particularly platforms like YouTube, Skillshare, Medium and others make it easier than ever to create **passive income** streams for retirement. Don't believe me? Check out this video for a real world example: \n",
    "\n",
    "> youtube: https://youtu.be/M5y69v1RbU0\n",
    "\n",
    "Additionally, posting your knowledge online can often lead to employment opportunities and a nice salary bump!\n",
    "\n",
    "### How to get started\n",
    "Prioritization\n",
    "- Highlight of the day\n",
    "  - Choose what you fear most!\n",
    "- Time blocking\n",
    "- Hell yeah or no\n",
    "\n",
    "### Other important creation tips\n",
    "\n",
    "Note taking\n",
    "- Morning dump\n",
    "- save your brain from stress\n",
    "- Roam Research\n",
    "- Read Wise"
   ]
  },
  {
   "cell_type": "markdown",
   "metadata": {
    "id": "rDUTZFTkVCQj"
   },
   "source": [
    "> youtube: https://youtu.be/iONDebHX9qk"
   ]
  },
  {
   "cell_type": "markdown",
   "metadata": {},
   "source": [
    "A | B\n",
    "- | - \n",
    "![](my_icons/fastai_logo.png) | > youtube: https://youtu.be/iONDebHX9qk"
   ]
  },
  {
   "cell_type": "code",
   "execution_count": null,
   "metadata": {},
   "outputs": [],
   "source": []
  }
 ],
 "metadata": {
  "colab": {
   "authorship_tag": "ABX9TyP/YxVe+lpsEFmJyAgP4bAx",
   "collapsed_sections": [],
   "include_colab_link": true,
   "name": "2021-05-13-My-Inspiration-for-starting-my-blog.ipynb",
   "provenance": [],
   "toc_visible": true
  },
  "kernelspec": {
   "display_name": "Python 3",
   "language": "python",
   "name": "python3"
  },
  "language_info": {
   "codemirror_mode": {
    "name": "ipython",
    "version": 3
   },
   "file_extension": ".py",
   "mimetype": "text/x-python",
   "name": "python",
   "nbconvert_exporter": "python",
   "pygments_lexer": "ipython3",
   "version": "3.8.5"
  }
 },
 "nbformat": 4,
 "nbformat_minor": 4
}
