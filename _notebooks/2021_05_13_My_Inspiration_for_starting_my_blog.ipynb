{
  "nbformat": 4,
  "nbformat_minor": 0,
  "metadata": {
    "colab": {
      "name": "2021-05-13-My-Inspiration-for-starting-my-blog.ipynb",
      "provenance": [],
      "collapsed_sections": [],
      "toc_visible": true,
      "authorship_tag": "ABX9TyP/YxVe+lpsEFmJyAgP4bAx",
      "include_colab_link": true
    },
    "kernelspec": {
      "name": "python3",
      "display_name": "Python 3"
    },
    "language_info": {
      "name": "python"
    }
  },
  "cells": [
    {
      "cell_type": "markdown",
      "metadata": {
        "id": "view-in-github",
        "colab_type": "text"
      },
      "source": [
        "<a href=\"https://colab.research.google.com/github/Ryanfras/fastpages/blob/master/_notebooks/2021_05_13_My_Inspiration_for_starting_my_blog.ipynb\" target=\"_parent\"><img src=\"https://colab.research.google.com/assets/colab-badge.svg\" alt=\"Open In Colab\"/></a>"
      ]
    },
    {
      "cell_type": "markdown",
      "metadata": {
        "id": "wN6llpKCG_3S"
      },
      "source": [
        "# My Inspiration for starting my own blog\n",
        "> a Quick discussion on what motivated me to write things down.\n",
        "\n",
        "- toc: true \n",
        "- badges: true\n",
        "- comments: true\n",
        "- categories: [jupyter]\n",
        "- image: images/chart-preview.png\n",
        "- adfadfasd"
      ]
    },
    {
      "cell_type": "markdown",
      "metadata": {
        "id": "Q2LZwtuJG4OP"
      },
      "source": [
        "# About\n",
        "\n",
        "This post is about some amazing videos I've been watching on youtube which helped me finally decide to start my blogging journey"
      ]
    },
    {
      "cell_type": "markdown",
      "metadata": {
        "id": "PkZbzBcauAXT"
      },
      "source": [
        "## Important Takeaways\n",
        "\n",
        "Show your work\n",
        "- Consumption vs. Production\n",
        "- Meet new poeple  online\n",
        "- Monetize - passive income\n",
        "\n",
        "Prioritization\n",
        "- Highlight of the day\n",
        "  - Choose what you fear most!\n",
        "- Time blocking\n",
        "- Hell yeah or no\n",
        "\n",
        "Note taking\n",
        "- Morning dump\n",
        "- save your brain from stress\n",
        "- Roam Research\n",
        "- Read Wise"
      ]
    },
    {
      "cell_type": "markdown",
      "metadata": {
        "id": "rDUTZFTkVCQj"
      },
      "source": [
        "> youtube: https://youtu.be/iONDebHX9qk"
      ]
    }
  ]
}