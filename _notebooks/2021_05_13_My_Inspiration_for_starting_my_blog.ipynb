{
 "cells": [
  {
   "cell_type": "markdown",
   "metadata": {
    "id": "wN6llpKCG_3S"
   },
   "source": [
    "# My Inspiration for starting my blog\n",
    "> Sharing my journey on what motivated me to start writing things down.\n",
    "\n",
    "- toc: true \n",
    "- badges: true\n",
    "- comments: true\n",
    "- categories: [jupyter]\n",
    "- image: images/chart-preview.png\n",
    "- adfadfasd"
   ]
  },
  {
   "cell_type": "markdown",
   "metadata": {
    "id": "Q2LZwtuJG4OP"
   },
   "source": [
    "# About\n",
    "\n",
    "This post is about my struggle with getting myself to create more and consume less. Throughout, I'll be sharing some amazing videos I've been watching on YouTube. They are from one of my new favorite YouTube creators, Ali Abdaal, his videos helped me finally decide to start my blogging journey. This is my way of saying thanks to him for putting in the effort to create and share high quality content"
   ]
  },
  {
   "cell_type": "markdown",
   "metadata": {
    "id": "PkZbzBcauAXT"
   },
   "source": [
    "# Creation vs. Consumption\n",
    "\n",
    "## What is the difference?\n",
    "\n",
    "These are 2 very broad terms, let's look at some examples:"
   ]
  },
  {
   "cell_type": "markdown",
   "metadata": {
    "id": "PkZbzBcauAXT"
   },
   "source": [
    "|    Create   | Consume |         Content        |\n",
    "|:-----------:|:-------:|:----------------------:|\n",
    "|    write    |   read  | books, blogs, articles |\n",
    "| speak, sing |  listen |     podcasts, songs    |\n",
    "|     act     |  watch  |          films         |\n",
    "|    build    |   use   |      applications      |"
   ]
  },
  {
   "cell_type": "markdown",
   "metadata": {
    "id": "PkZbzBcauAXT"
   },
   "source": [
    "## My relationship with consumption and creation\n",
    "\n",
    "I spend a lot of time (80%) consuming and a comparatively a small amount of time (20%) creating. For a while now I've been trying to think of ways in which I could change this. It wasn't until recently that I've finally made some progress by setting up this blog.\n",
    "\n",
    "My hope is that this post might help you make the same transition. I would like to start by convincing you why creation is so important. \n",
    "\n",
    "## Why you should create more\n",
    "\n",
    "Most of the points I've raised here are extracted from this video from Ali Abdaal.\n",
    "\n",
    "**How Writing Online Made me a Millionaire**\n",
    "> youtube: https://youtu.be/vyVpRiqOvt4"
   ]
  },
  {
   "cell_type": "markdown",
   "metadata": {
    "id": "PkZbzBcauAXT"
   },
   "source": [
    "### Express / Know yourself\n",
    "\n",
    "When you are doing something like writing a blog you are also getting to know yourself, your inner thoughts and ideas are expressed on paper. It is a time in which you find out what you have to say to the world, sometimes even surprising yourself. Perhaps it can even be compared to meditation or praying.\n",
    "\n",
    "### Add value to the world\n",
    "\n",
    "Why are we alive if not to add new things to the world. Imagine having to learn math without a book, writing allows us to speed up knowledge transfer to future generations. The best thing about the internet is that you are now able to share your ideas everywhere and with everyone!\n",
    "\n",
    "### Meet new people online\n",
    "\n",
    "Sharing your interests online could lead to making unexpected friends in every part of the world. Personally, I believe the only way for long term sustained world peace is a deep integration and understanding of all cultures around the world."
   ]
  },
  {
   "cell_type": "markdown",
   "metadata": {
    "id": "PkZbzBcauAXT"
   },
   "source": [
    "### Monetize\n",
    "\n",
    "Another amazing motivator and reason for creating things is money. The ability to sell your content is definitely not easy but it's better having tried and failed than never having tried at all.\n",
    "\n",
    "Posting your knowledge online can often lead to employment opportunities and a nice salary bump!\n",
    "\n",
    "The internet, and particularly platforms like YouTube, Skillshare, Medium and others make it easier than ever to create **passive income** streams for retirement. Don't believe me? Check out this video from Ali for a real world example: \n",
    "\n",
    "**9 Passive Income Ideas - How I Make $27k per Week**\n",
    "> youtube: https://youtu.be/M5y69v1RbU0\n",
    "\n",
    "### and many others advantages\n",
    "\n",
    "Still not convinced? Go check out this post by Rachel Thomas, she knows a lot more than me:\n",
    "https://medium.com/@racheltho/why-you-yes-you-should-blog-7d2544ac1045"
   ]
  },
  {
   "cell_type": "markdown",
   "metadata": {
    "id": "PkZbzBcauAXT"
   },
   "source": [
    "## How to get started\n",
    "\n",
    "For me the hardest part in getting started was two fold:\n",
    "- I didn't know what I could possible write about. \n",
    "    - I'm still figuring this one out. For now I'm planning to simply document what I'm doing on a daily basis to get myself use to writing more.\n",
    "    - My only advice is to not make it into a big thing. Start small and iterate.\n",
    "    - Just start writing!\n",
    "- I didn't know which platform to use to get started. \n",
    "    - Here, [fastpages](https://github.com/fastai/fastpages) came to my rescue. I'll be following up this post a tutorial on how to setup your own blog for free and in less than 5 min using fastpages.\n",
    "    - Another option is use platforms like Ghost or Squarespace. These might be better options for normal (non-data science) people who don't need to write about math.\n",
    " \n",
    "**How To Set Up A Website - EVERYTHING You Need To Know**\n",
    "> youtube: https://youtu.be/acBJsjCqgtM\n",
    "\n",
    "## Final thoughts\n",
    "\n",
    "Over the years I've learned something about important about myself. I can be influenced pretty easily by others around me. Although this might seem like a bad thing at first, it is also probably my best trait. It has allowed me to stay open minded and learn new skills, put myself outside my comfort zone and really get entrenched in new ideas. Most recently I've been allowing Ali Abdaal to influence me by applying the techniques he talks about in his videos. Hopefully I can keep it going but the initial results are really promising, I'm more productive, create more, and finally do things I've been putting off for years! I can only recommend you watch his stuff and who knows, maybe it will do the same for you."
   ]
  },
  {
   "cell_type": "code",
   "execution_count": null,
   "metadata": {},
   "outputs": [],
   "source": []
  }
 ],
 "metadata": {
  "colab": {
   "authorship_tag": "ABX9TyP/YxVe+lpsEFmJyAgP4bAx",
   "collapsed_sections": [],
   "include_colab_link": true,
   "name": "2021-05-13-My-Inspiration-for-starting-my-blog.ipynb",
   "provenance": [],
   "toc_visible": true
  },
  "kernelspec": {
   "display_name": "Python 3",
   "language": "python",
   "name": "python3"
  },
  "language_info": {
   "codemirror_mode": {
    "name": "ipython",
    "version": 3
   },
   "file_extension": ".py",
   "mimetype": "text/x-python",
   "name": "python",
   "nbconvert_exporter": "python",
   "pygments_lexer": "ipython3",
   "version": "3.8.5"
  }
 },
 "nbformat": 4,
 "nbformat_minor": 4
}
