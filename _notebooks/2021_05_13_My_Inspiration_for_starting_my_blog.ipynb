{
  "nbformat": 4,
  "nbformat_minor": 0,
  "metadata": {
    "colab": {
      "name": "2021-05-13-My-Inspiration-for-starting-my-blog.ipynb",
      "provenance": [],
      "authorship_tag": "ABX9TyNWTeYhTqw7NHce0x6CqIRt",
      "include_colab_link": true
    },
    "kernelspec": {
      "name": "python3",
      "display_name": "Python 3"
    },
    "language_info": {
      "name": "python"
    }
  },
  "cells": [
    {
      "cell_type": "markdown",
      "metadata": {
        "id": "view-in-github",
        "colab_type": "text"
      },
      "source": [
        "<a href=\"https://colab.research.google.com/github/Ryanfras/fastpages/blob/master/_notebooks/2021_05_13_My_Inspiration_for_starting_my_blog.ipynb\" target=\"_parent\"><img src=\"https://colab.research.google.com/assets/colab-badge.svg\" alt=\"Open In Colab\"/></a>"
      ]
    },
    {
      "cell_type": "markdown",
      "metadata": {
        "id": "wN6llpKCG_3S"
      },
      "source": [
        "# My Inspiration for starting my own blog\n",
        "> a Quick discussion on what motivated me to write things down.\n",
        "\n",
        "- toc: true \n",
        "- badges: true\n",
        "- comments: true\n",
        "- categories: [jupyter]\n",
        "- image: images/chart-preview.png"
      ]
    },
    {
      "cell_type": "markdown",
      "metadata": {
        "id": "rDUTZFTkVCQj"
      },
      "source": [
        "> youtube: https://youtu.be/iONDebHX9qk"
      ]
    },
    {
      "cell_type": "code",
      "metadata": {
        "id": "Q2LZwtuJG4OP"
      },
      "source": [
        ""
      ],
      "execution_count": null,
      "outputs": []
    }
  ]
}