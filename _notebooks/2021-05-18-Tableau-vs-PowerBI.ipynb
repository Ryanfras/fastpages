{
 "cells": [
  {
   "cell_type": "markdown",
   "id": "5d965ba6-565c-41a6-b94a-c9b89ab7ee9f",
   "metadata": {},
   "source": [
    "# Why Tableau is better than Power BI\n",
    "> How to setup your blog for free and in less than 5 min using fastpages\n",
    "\n",
    "- toc: true \n",
    "- badges: true\n",
    "- comments: true\n",
    "- categories: [jupyter]\n",
    "- image: images/pages.jpg"
   ]
  },
  {
   "cell_type": "markdown",
   "id": "57716485-8dbd-439c-952d-ca0c303bbf3b",
   "metadata": {},
   "source": [
    "# About\n",
    "\n",
    "I apologize in advance for the click-bait title, although I believe this to be true, every technology has got it's advantages and disadvantages. There are also ways in which Power BI is better than Tableau. The goal of this article is to identify some of the strengths of Tableau when compared to Power BI (and most other BI tools). I'm hoping that by highlighting these gaps between BI tools, I can demonstrate why pricing shouldn't be the only consideration when evaluating these tools. Far too often I see Tableau removed as an option simply because it is more expensive. \n",
    "\n",
    "I would like to showcase that the statement \"Both tools can the the same thing\" is just simply not true. Tableau has some core features which I believe more than make up for the difference in pricing when compared to PowerBI. These features allow you to easily answer more complex business questions and therefore extract more useful information from your data which is the main purpose of any BI tool.\n",
    "\n",
    "I biggest hope is that, if we're lucky, Power BI will somehow add this capabilities in future releases."
   ]
  },
  {
   "cell_type": "markdown",
   "id": "0388e4c1-3d3e-44e6-b17d-ef552becf4e3",
   "metadata": {},
   "source": [
    "# Where does Tableau shine\n",
    "\n",
    "## Cross filtering + action filters\n",
    "\n",
    "Cross filtering refers to the ability to filter your data across multiple dimensions at the same time. Essentially we want to provide and end user experience which allows them to drill-down or slice + dice their data in any way they want. In my experience Tableau offers the most mature / advanced capabilities. I will be supporting this statement with some example business scenarios in which Tableau out performs other tools in the following sections.\n",
    "\n",
    "Action Filters is a tableau specific term. Essentially it enables cross filtering but with the advantage of having filters applied after clicking on graphs rather than having to use filter controls like most other BI tools. This makes it possible to create some really amazing end user experiences.\n",
    "\n",
    "## Level of detail calculations + context filters\n",
    "\n",
    "Another very useful feature in Tableau is LOD (Level of detail) calculation. Although they do take a while to master, these type of calculations together with context filters allows you to, on the fly, change your underlying data without the need to involve IT. It enables self-service to the next level when compared to other BI tools.\n",
    "\n"
   ]
  },
  {
   "cell_type": "markdown",
   "id": "69afd994-d16d-4ee6-b816-5c363978cc6a",
   "metadata": {},
   "source": [
    "# Example Business Scenario\n",
    "\n",
    "I believe the easiest way to illustrate why Tableau is better, is by showcasing which kind of questions can only be answered using Tableau but not using other Tools.\n",
    "\n",
    "I will be basing my examples on a freely available training dataset (table) provided by Tableau called Superstore. It contains transaction data (orders) for a fictional business. \n",
    "\n",
    "We would like to answer these questions:\n",
    "- How many customers are there in each year? (Both)\n",
    "- How many customers are there in each your for a given product category? (Both)\n",
    "- How many new customers are there? i.e. customers whom bought within the last year? (Both)\n",
    "- How many new customers are there for a given product category? (Both)\n",
    "- Who are the new customers? Who are the new customers in each product category? (Both)\n",
    "- What are the new customers buying? What are the new customers - from product category x - buying? (Tableau only)\n",
    "- What is the retention for customers in product category x vs customers in product category y? (Tableau only)\n",
    "\n",
    "As your can see, when we start increasing the complexity of the questions, the Tableau is showing its superiority."
   ]
  },
  {
   "cell_type": "markdown",
   "id": "9762fca0-2639-4800-ba04-03e22f147bba",
   "metadata": {},
   "source": [
    "## How many customers in each year?\n",
    "\n",
    "This one is fairly easy to answer by any BI because all we need is the ability to use the Count Distinct function on the customer number column:"
   ]
  },
  {
   "cell_type": "markdown",
   "id": "f2772e5b-c193-4a48-b88a-ce189d57837b",
   "metadata": {},
   "source": [
    "## How many customers in each year for a given product category?"
   ]
  },
  {
   "cell_type": "code",
   "execution_count": 68,
   "id": "babf6a02-087a-4569-a2ea-4d157dd791de",
   "metadata": {
    "execution": {
     "iopub.execute_input": "2021-05-18T18:38:17.617742Z",
     "iopub.status.busy": "2021-05-18T18:38:17.616711Z",
     "iopub.status.idle": "2021-05-18T18:38:17.640722Z",
     "shell.execute_reply": "2021-05-18T18:38:17.639618Z",
     "shell.execute_reply.started": "2021-05-18T18:38:17.617742Z"
    },
    "tags": []
   },
   "outputs": [
    {
     "data": {
      "text/html": [
       "<iframe width=\"100%\" height=\"600\" src=https://public.tableau.com/views/CustomersAnalytics_16213616461720/CustomersbyYearDash?:language=en-GB&:showVizHome=no&:display_count=y&publish=yes&:origin=viz_share_link?:embed=yes&:tabs=yes&:toolbar=yes\"></iframe> \n"
      ],
      "text/plain": [
       "<IPython.core.display.HTML object>"
      ]
     },
     "metadata": {},
     "output_type": "display_data"
    }
   ],
   "source": [
    "%%html\n",
    "<iframe width=\"100%\" height=\"600\" src=https://public.tableau.com/views/CustomersAnalytics_16213616461720/CustomersbyYearDash?:language=en-GB&:showVizHome=no&:display_count=y&publish=yes&:origin=viz_share_link?:embed=yes&:tabs=yes&:toolbar=yes\"></iframe> "
   ]
  },
  {
   "cell_type": "markdown",
   "id": "a66dc28b-cd21-44a0-9d0e-3bffce5ed6b7",
   "metadata": {
    "execution": {
     "iopub.execute_input": "2021-05-18T18:21:49.091252Z",
     "iopub.status.busy": "2021-05-18T18:21:49.091252Z",
     "iopub.status.idle": "2021-05-18T18:21:49.114191Z",
     "shell.execute_reply": "2021-05-18T18:21:49.112196Z",
     "shell.execute_reply.started": "2021-05-18T18:21:49.091252Z"
    },
    "tags": []
   },
   "source": [
    "Or Tableau\n",
    "<script type='text/javascript' src='https://public.tableau.com/javascripts/api/viz_v1.js'></script> \n",
    "<div class='tableauPlaceholder' style=''> \n",
    "<object class='tableauViz' width=100% height=600 style='display:none;'>\n",
    "   <param name='host_url' value='https%3A%2F%2Fpublic.tableau.com%2F' /> \n",
    "   <param name='site_root' value='' /> \n",
    "   <param name='name' value='CustomersAnalytics_16213616461720&#47;CustomersbyYearDash' /> \n",
    "   <param name='tabs' value='yes' /> \n",
    "   <param name='toolbar' value='yes' /></object>\n",
    "</div>"
   ]
  },
  {
   "cell_type": "code",
   "execution_count": null,
   "id": "318f335d-748f-401e-99db-c987f5c5dbe2",
   "metadata": {},
   "outputs": [],
   "source": []
  }
 ],
 "metadata": {
  "kernelspec": {
   "display_name": "Python 3",
   "language": "python",
   "name": "python3"
  },
  "language_info": {
   "codemirror_mode": {
    "name": "ipython",
    "version": 3
   },
   "file_extension": ".py",
   "mimetype": "text/x-python",
   "name": "python",
   "nbconvert_exporter": "python",
   "pygments_lexer": "ipython3",
   "version": "3.8.5"
  }
 },
 "nbformat": 4,
 "nbformat_minor": 5
}
