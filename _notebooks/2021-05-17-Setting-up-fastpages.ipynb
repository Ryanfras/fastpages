{
 "cells": [
  {
   "cell_type": "markdown",
   "id": "430bd48c-537a-48d5-b004-d468a9655cdc",
   "metadata": {},
   "source": [
    "# Setting up your blog for free\n",
    "> How to setup your blog for free and in less than 5 min using fastpages\n",
    "\n",
    "- toc: true \n",
    "- badges: true\n",
    "- comments: true\n",
    "- categories: [jupyter]\n",
    "- image: images/pages.jpg"
   ]
  },
  {
   "cell_type": "markdown",
   "id": "281022cc-718a-4b81-896a-d7ceb1dc90bd",
   "metadata": {},
   "source": [
    "# About\n",
    "\n",
    "This post is about how I setup my blog using an amazing tool called `fastpages`. It was created by the team at `fastai` which have made many great products.\n",
    "\n",
    "![](https://images.unsplash.com/photo-1598640960622-f51a8bdf8231?ixid=MnwxMjA3fDB8MHxwaG90by1wYWdlfHx8fGVufDB8fHx8&ixlib=rb-1.2.1&auto=format&fit=crop&w=2102&q=80)"
   ]
  },
  {
   "cell_type": "markdown",
   "id": "60ce765f-5bac-4abd-8242-58d7f23d2dfa",
   "metadata": {},
   "source": [
    "# How to setup your blog\n",
    "\n",
    "1. Setup a github account if you haven't already\n",
    "2. Go to fastpages github repo and click on clone\n",
    "3. Use Google Colab to blog"
   ]
  },
  {
   "cell_type": "code",
   "execution_count": null,
   "id": "e2276d06-b520-4f51-ab17-9f795635626f",
   "metadata": {},
   "outputs": [],
   "source": []
  }
 ],
 "metadata": {
  "kernelspec": {
   "display_name": "Python 3",
   "language": "python",
   "name": "python3"
  },
  "language_info": {
   "codemirror_mode": {
    "name": "ipython",
    "version": 3
   },
   "file_extension": ".py",
   "mimetype": "text/x-python",
   "name": "python",
   "nbconvert_exporter": "python",
   "pygments_lexer": "ipython3",
   "version": "3.8.5"
  }
 },
 "nbformat": 4,
 "nbformat_minor": 5
}
