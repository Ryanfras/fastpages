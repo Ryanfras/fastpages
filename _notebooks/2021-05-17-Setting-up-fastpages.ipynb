{
 "cells": [
  {
   "cell_type": "markdown",
   "id": "430bd48c-537a-48d5-b004-d468a9655cdc",
   "metadata": {},
   "source": [
    "# Setting up your blog for free\n",
    "> How to setup your blog for free and in less than 5 min using fastpages\n",
    "\n",
    "- toc: true \n",
    "- badges: true\n",
    "- comments: true\n",
    "- categories: [jupyter]\n",
    "- image: images/pages.jpg"
   ]
  },
  {
   "cell_type": "markdown",
   "id": "281022cc-718a-4b81-896a-d7ceb1dc90bd",
   "metadata": {},
   "source": [
    "# About\n",
    "\n",
    "This post is about how I setup my blog using an amazing tool called `fastpages`. It was created by the team at `fastai` whom have made many great products.\n",
    "\n",
    "![](https://images.unsplash.com/photo-1598640960622-f51a8bdf8231?ixid=MnwxMjA3fDB8MHxwaG90by1wYWdlfHx8fGVufDB8fHx8&ixlib=rb-1.2.1&auto=format&fit=crop&w=2102&q=80)"
   ]
  },
  {
   "cell_type": "markdown",
   "id": "60ce765f-5bac-4abd-8242-58d7f23d2dfa",
   "metadata": {},
   "source": [
    "# How to setup your blog (with fastpages)\n",
    "\n",
    "Although these guides on [introducing fastpages](https://fastpages.fast.ai/fastpages/jupyter/2020/02/21/introducing-fastpages.html#Setting-Up-Fastpages) and in particular [setting up](https://github.com/fastai/fastpages#setup-instructions) will probably be more than sufficient for most people. I wanted to write my own version because I had some additional tips that I found useful while learning to use this platform.\n",
    "\n",
    "1. Setup a [github](https://github.com/) account if you haven't already\n",
    "2.  Generate a copy of this repo by clicking [on this link](https://github.com/fastai/fastpages/generate). Make sure to sign in to your account, or you will see a 404 error. Name your repo anything you like **except** {your-username}.github.io.\n",
    "\n",
    "3. **GitHub Actions will automatically open a PR (Pull Request)** on your new repository ~ 30 seconds after the copy is created.  Follow the instructions in that PR to continue.\n",
    "\n",
    "<img src=\"fastpages_tutorial/01_pull_request.png\"/>\n",
    "\n",
    ">If you are not seeing a PR, please make sure you have third party actions enabled in your organization: **Settings -> Actions -> Actions Permissions -> Enable local and third party Actions for this repository**\n",
    "\n",
    "For a live walk-through of the setup steps (with some additional tips) see this [video tutorial of setting up a fastpages blog](https://youtu.be/L0boq3zqazI) by Abdul Majed.\n",
    "\n",
    "4. Use [Google Colab](https://colab.research.google.com/) to make posts from anywhere at any time, all you need is internet and a browser!"
   ]
  },
  {
   "cell_type": "markdown",
   "id": "b68b30da-7883-4982-bf87-08d176d2da4c",
   "metadata": {},
   "source": [
    "Steps | Visual Guide\n",
    "- | -\n",
    "![](fastpages_tutorial/02_open_notebook.png) | 1.) Click on File <br> 2.) Click on Open Notebook  \n",
    "1.) Click on the Github tab <br> 2.) Select your blog repo from the dropdown <br> 3.) Select (click) the test notebook | <img src=\"fastpages_tutorial/03_open_notebook2.png\" width=\"600\"/>\n",
    "1.) Make some changes to this file (for testing purposes) | <img src=\"fastpages_tutorial/04_make_changes.png\" width=\"600\"/>\n",
    "1.) Click on File <br> 2.) Click on Save a copy in Github| <img src=\"fastpages_tutorial/05_file_save.png\" width=\"600\"/>\n",
    "1.) Select your blog repo from the drop-down <br> 2.a.) Make sure the name follows the correct naming convention <br> 2.b.) If you want to make changes to an existing file, you need to make sure the name is exactly the same as the current file <br>3.) Click OK| <img src=\"fastpages_tutorial/06_save_settings.png\" width=\"600\"/>\n",
    "1.) Go back to your Github Repo <br> 2.) Notice the commit message is showing on the folder| <img src=\"fastpages_tutorial/07_result_commit.png\" width=\"600\"/>"
   ]
  },
  {
   "cell_type": "markdown",
   "id": "01c2abea-d3cc-4c10-a891-add80ecf40fc",
   "metadata": {},
   "source": [
    "Every time you commit to master, fastpages uses github actions to automatically update your website with the changes. After waiting a minute or two you should be able to refresh you page and see the updated content.\n",
    "\n",
    "<img src=\"fastpages_tutorial/08_github_actions.png\"/>"
   ]
  },
  {
   "cell_type": "code",
   "execution_count": null,
   "id": "83ca47e0-dc7c-43cb-8a6e-d2ac625d6e24",
   "metadata": {},
   "outputs": [],
   "source": []
  }
 ],
 "metadata": {
  "kernelspec": {
   "display_name": "Python 3",
   "language": "python",
   "name": "python3"
  },
  "language_info": {
   "codemirror_mode": {
    "name": "ipython",
    "version": 3
   },
   "file_extension": ".py",
   "mimetype": "text/x-python",
   "name": "python",
   "nbconvert_exporter": "python",
   "pygments_lexer": "ipython3",
   "version": "3.8.5"
  }
 },
 "nbformat": 4,
 "nbformat_minor": 5
}
