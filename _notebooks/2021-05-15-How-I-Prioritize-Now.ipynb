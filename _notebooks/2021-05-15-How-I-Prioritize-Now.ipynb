{
 "cells": [
  {
   "cell_type": "markdown",
   "id": "38d9152c-f401-4c19-a6c6-8fe77c2e4fe6",
   "metadata": {
    "execution": {
     "iopub.execute_input": "2021-05-15T14:24:38.725879Z",
     "iopub.status.busy": "2021-05-15T14:24:38.725879Z",
     "iopub.status.idle": "2021-05-15T14:24:38.736850Z",
     "shell.execute_reply": "2021-05-15T14:24:38.735852Z",
     "shell.execute_reply.started": "2021-05-15T14:24:38.725879Z"
    }
   },
   "source": [
    "# How I prioritize and beat procrastination\n",
    "> Some tips I've learned which help me get stuff done.\n",
    "\n",
    "- toc: true \n",
    "- badges: true\n",
    "- comments: true\n",
    "- categories: [jupyter]\n",
    "- image: images/time.jpg"
   ]
  },
  {
   "cell_type": "markdown",
   "id": "8a1065df-ea95-4d70-90f1-e905b6d65c81",
   "metadata": {},
   "source": [
    "# About\n",
    "\n",
    "Ever find yourself knowing you should be doing something but constantly putting it off? This is called procrastination and it's a problem plaguing everyone. Why exactly are humans so bad at doing what they know they are supposed to be doing? Well, it comes down to fear. Fear of failing, fear of putting in effort, fear of exposing yourself.\n",
    "\n",
    "I am writing this post to outline how I managed to get over this fear and finally start doing the things I've been putting off for years. "
   ]
  },
  {
   "cell_type": "markdown",
   "id": "d7bf4c34-da71-41c0-9a22-c57f6ee7cb98",
   "metadata": {
    "execution": {
     "iopub.execute_input": "2021-05-15T14:59:54.650029Z",
     "iopub.status.busy": "2021-05-15T14:59:54.650029Z",
     "iopub.status.idle": "2021-05-15T14:59:54.717852Z",
     "shell.execute_reply": "2021-05-15T14:59:54.714855Z",
     "shell.execute_reply.started": "2021-05-15T14:59:54.650029Z"
    }
   },
   "source": [
    "![](https://images.unsplash.com/photo-1530653048-4d8c08678aa0?ixid=MnwxMjA3fDB8MHxwaG90by1wYWdlfHx8fGVufDB8fHx8&ixlib=rb-1.2.1&auto=format&fit=crop&w=2560&q=80)"
   ]
  },
  {
   "cell_type": "markdown",
   "id": "12f3cb4c-7403-4ff2-81cd-a473850cc7bc",
   "metadata": {},
   "source": [
    "# How I stopped procrastinating\n",
    "\n",
    "My road to solving this for myself comes from a combining of a few techniques I've picked up from Ali Abdaal's videos. "
   ]
  },
  {
   "cell_type": "markdown",
   "id": "49979cfa-95bb-49a4-ae6b-41f3fc00cf9d",
   "metadata": {},
   "source": [
    "## Identify what you long for\n",
    "\n",
    "The first step is to identify and understand when and why you procrastinate. The key objective here is to identify the most important tasks you should be focusing on. These are usually things that you've wanted to do for many years (like start a blog) but you've always managed to convince yourself you'll do it later or you're not ready yet. This is fear! This video from Ali Abdaal is a great summary: \n",
    "\n",
    "How I Beat procrastination:\n",
    "> youtube: https://youtu.be/RP0oVOH4Zz4"
   ]
  },
  {
   "cell_type": "markdown",
   "id": "4246fd96-05ed-4d85-a433-9c1fedb508ab",
   "metadata": {},
   "source": [
    "## Make it your highlight of the day\n",
    "\n",
    "The highlight of the day is 1 objective you set for the day which is the only thing you need to get done for that day. The problem with a to-do list is we almost never manage to do everything on the list. The power of choosing only **1 task that needs to be completed** is that it immediately helps you prioritize what is really important because you only choose 1 thing.\n",
    "\n",
    "So after identifying the tasks you procrastinate in step 1, step 2 is to make it your highlight of the day.\n",
    "\n",
    "If it's something that can't be done in a day, you might want to break it down into smaller tasks. Keeping with the example of starting a blog, the first task (or highlight of the day) is to setup a website. The second task might be to write 1 post (or even just write for 2 hours).\n",
    "\n",
    "I've also found some success in not breaking it down, don't be scared to make your highlight of the day an impossible task, attempting to do the impossible in a day can have some great results. Reach for the stars and you might touch the sky!"
   ]
  },
  {
   "cell_type": "markdown",
   "id": "e53dbc09-1661-4435-a01f-847f225248eb",
   "metadata": {},
   "source": [
    "## Block time in your day\n",
    "\n",
    "The last step is to use time-blocking to make sure I actually set aside time for doing the highlight of the day. Just listing you should do something is not enough. By making a calendar entry we remind ourselves to do something, or as Ali puts it, we use the calendar as our lash. "
   ]
  },
  {
   "cell_type": "markdown",
   "id": "0baa844a-7e94-4d02-b789-29d9dfe1e50a",
   "metadata": {},
   "source": [
    "# Some other useful tips\n",
    "\n",
    "The above mentioned points are not the only useful tips when prioritizing your day. In particular the idea of - Hell yeah or no - is also something I'm trying to follow.  I strongly encourage you check out this video for more: \n",
    "\n",
    "How I Manage My Time - 10 Time Management Tips\n",
    "> youtube: https://youtu.be/iONDebHX9qk"
   ]
  },
  {
   "cell_type": "markdown",
   "id": "5d2447ff-5c0c-4eb7-b117-db91b13d467c",
   "metadata": {
    "execution": {
     "iopub.execute_input": "2021-05-16T08:12:55.318867Z",
     "iopub.status.busy": "2021-05-16T08:12:55.317869Z",
     "iopub.status.idle": "2021-05-16T08:12:55.339901Z",
     "shell.execute_reply": "2021-05-16T08:12:55.337632Z",
     "shell.execute_reply.started": "2021-05-16T08:12:55.317869Z"
    }
   },
   "source": [
    "Thanks for reading. I hope some of these tips help you too!"
   ]
  },
  {
   "cell_type": "code",
   "execution_count": null,
   "id": "219cd5da-b478-49d2-b298-8e60cd1fa984",
   "metadata": {},
   "outputs": [],
   "source": []
  }
 ],
 "metadata": {
  "kernelspec": {
   "display_name": "Python 3",
   "language": "python",
   "name": "python3"
  },
  "language_info": {
   "codemirror_mode": {
    "name": "ipython",
    "version": 3
   },
   "file_extension": ".py",
   "mimetype": "text/x-python",
   "name": "python",
   "nbconvert_exporter": "python",
   "pygments_lexer": "ipython3",
   "version": "3.8.5"
  }
 },
 "nbformat": 4,
 "nbformat_minor": 5
}
