{
 "cells": [
  {
   "cell_type": "markdown",
   "id": "38d9152c-f401-4c19-a6c6-8fe77c2e4fe6",
   "metadata": {
    "execution": {
     "iopub.execute_input": "2021-05-15T14:24:38.725879Z",
     "iopub.status.busy": "2021-05-15T14:24:38.725879Z",
     "iopub.status.idle": "2021-05-15T14:24:38.736850Z",
     "shell.execute_reply": "2021-05-15T14:24:38.735852Z",
     "shell.execute_reply.started": "2021-05-15T14:24:38.725879Z"
    }
   },
   "source": [
    "# How I Prioritize and beat procrastination\n",
    "> Some tips I've learned which help me get stuff done.\n",
    "\n",
    "- toc: true \n",
    "- badges: true\n",
    "- comments: true\n",
    "- categories: [jupyter]\n",
    "- image: images/time.png"
   ]
  },
  {
   "cell_type": "markdown",
   "id": "d7bf4c34-da71-41c0-9a22-c57f6ee7cb98",
   "metadata": {
    "execution": {
     "iopub.execute_input": "2021-05-15T14:59:54.650029Z",
     "iopub.status.busy": "2021-05-15T14:59:54.650029Z",
     "iopub.status.idle": "2021-05-15T14:59:54.717852Z",
     "shell.execute_reply": "2021-05-15T14:59:54.714855Z",
     "shell.execute_reply.started": "2021-05-15T14:59:54.650029Z"
    }
   },
   "source": [
    "![](https://images.unsplash.com/photo-1530653048-4d8c08678aa0?ixid=MnwxMjA3fDB8MHxwaG90by1wYWdlfHx8fGVufDB8fHx8&ixlib=rb-1.2.1&auto=format&fit=crop&w=2560&q=80)"
   ]
  },
  {
   "cell_type": "markdown",
   "id": "0baa844a-7e94-4d02-b789-29d9dfe1e50a",
   "metadata": {},
   "source": [
    "\n",
    "How I Beat procratination:\n",
    "> youtube: https://youtu.be/RP0oVOH4Zz4\n",
    "\n",
    "How I Manage My Time - 10 Time Management Tips\n",
    "> youtube: https://youtu.be/iONDebHX9qk\n",
    "\n",
    "### Prioritization\n",
    "- Highlight of the day\n",
    "  - Choose what you fear most!\n",
    "- Time blocking\n",
    "- Hell yeah or no\n",
    "\n",
    "### Other important creation tips\n",
    "\n",
    "Note taking\n",
    "- Morning dump\n",
    "- save your brain from stress\n",
    "- Roam Research\n",
    "- Read Wise"
   ]
  },
  {
   "cell_type": "code",
   "execution_count": null,
   "id": "14150e5a-06d2-4c96-aeff-84fca3c41b31",
   "metadata": {},
   "outputs": [],
   "source": []
  }
 ],
 "metadata": {
  "kernelspec": {
   "display_name": "Python 3",
   "language": "python",
   "name": "python3"
  },
  "language_info": {
   "codemirror_mode": {
    "name": "ipython",
    "version": 3
   },
   "file_extension": ".py",
   "mimetype": "text/x-python",
   "name": "python",
   "nbconvert_exporter": "python",
   "pygments_lexer": "ipython3",
   "version": "3.8.5"
  }
 },
 "nbformat": 4,
 "nbformat_minor": 5
}
