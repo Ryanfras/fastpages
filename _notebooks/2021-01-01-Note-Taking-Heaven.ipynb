{
 "cells": [
  {
   "cell_type": "markdown",
   "id": "9d104655-0deb-453f-b2a9-39ad1901a01d",
   "metadata": {
    "execution": {
     "iopub.execute_input": "2021-05-17T12:59:53.667769Z",
     "iopub.status.busy": "2021-05-17T12:59:53.665773Z",
     "iopub.status.idle": "2021-05-17T12:59:53.691714Z",
     "shell.execute_reply": "2021-05-17T12:59:53.689740Z",
     "shell.execute_reply.started": "2021-05-17T12:59:53.667769Z"
    }
   },
   "source": [
    "# Note Taking Tips (WIP)\n",
    "> Sharing my journey on what motivated me to start writing things down.\n",
    "\n",
    "- toc: true \n",
    "- badges: true\n",
    "- comments: true\n",
    "- categories: [jupyter]\n",
    "- image: images/writing-blog.jpg"
   ]
  },
  {
   "cell_type": "markdown",
   "id": "fafd3ee5-0ab7-4188-bd6f-038f70660728",
   "metadata": {},
   "source": [
    "\n",
    "# Other important creation tips\n",
    "\n",
    "Note taking\n",
    "- Morning dump\n",
    "- save your brain from stress\n",
    "- Roam Research\n",
    "- Read Wise"
   ]
  },
  {
   "cell_type": "code",
   "execution_count": null,
   "id": "cc7613f7-98ff-42c9-b068-30d817833c72",
   "metadata": {},
   "outputs": [],
   "source": []
  }
 ],
 "metadata": {
  "kernelspec": {
   "display_name": "Python 3",
   "language": "python",
   "name": "python3"
  },
  "language_info": {
   "codemirror_mode": {
    "name": "ipython",
    "version": 3
   },
   "file_extension": ".py",
   "mimetype": "text/x-python",
   "name": "python",
   "nbconvert_exporter": "python",
   "pygments_lexer": "ipython3",
   "version": "3.8.5"
  }
 },
 "nbformat": 4,
 "nbformat_minor": 5
}
