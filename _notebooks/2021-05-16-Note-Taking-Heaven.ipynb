{
 "cells": [
  {
   "cell_type": "code",
   "execution_count": null,
   "id": "b4510e13-5189-4039-99d0-ac7ad31b9e49",
   "metadata": {},
   "outputs": [],
   "source": []
  },
  {
   "cell_type": "markdown",
   "id": "fafd3ee5-0ab7-4188-bd6f-038f70660728",
   "metadata": {},
   "source": [
    "\n",
    "### Other important creation tips\n",
    "\n",
    "Note taking\n",
    "- Morning dump\n",
    "- save your brain from stress\n",
    "- Roam Research\n",
    "- Read Wise"
   ]
  }
 ],
 "metadata": {
  "kernelspec": {
   "display_name": "Python 3",
   "language": "python",
   "name": "python3"
  },
  "language_info": {
   "codemirror_mode": {
    "name": "ipython",
    "version": 3
   },
   "file_extension": ".py",
   "mimetype": "text/x-python",
   "name": "python",
   "nbconvert_exporter": "python",
   "pygments_lexer": "ipython3",
   "version": "3.8.5"
  }
 },
 "nbformat": 4,
 "nbformat_minor": 5
}
